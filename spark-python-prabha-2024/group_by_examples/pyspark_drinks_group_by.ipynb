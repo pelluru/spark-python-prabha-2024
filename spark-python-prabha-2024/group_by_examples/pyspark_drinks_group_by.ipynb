{
 "cells": [
  {
   "cell_type": "code",
   "execution_count": 2,
   "metadata": {},
   "outputs": [],
   "source": [
    "# https://github.com/areibman/pyspark_exercises?tab=readme-ov-file\n",
    "# Taken exmples from the above repository"
   ]
  },
  {
   "cell_type": "markdown",
   "metadata": {},
   "source": [
    "# Ex - GroupBy"
   ]
  },
  {
   "cell_type": "markdown",
   "metadata": {},
   "source": [
    "### Introduction:\n",
    "\n",
    "GroupBy can be summarized as Split-Apply-Combine.\n",
    "\n",
    "Special thanks to: https://github.com/justmarkham for sharing the dataset and materials.\n",
    "\n",
    "Check out this [Diagram](http://i.imgur.com/yjNkiwL.png)  \n",
    "### Step 1. Import the necessary libraries"
   ]
  },
  {
   "cell_type": "code",
   "execution_count": 6,
   "metadata": {},
   "outputs": [
    {
     "name": "stderr",
     "output_type": "stream",
     "text": [
      "24/12/13 14:52:39 WARN Utils: Your hostname, Prabhakaras-Mac-mini.local resolves to a loopback address: 127.0.0.1; using 192.168.0.62 instead (on interface en1)\n",
      "24/12/13 14:52:39 WARN Utils: Set SPARK_LOCAL_IP if you need to bind to another address\n",
      "Setting default log level to \"WARN\".\n",
      "To adjust logging level use sc.setLogLevel(newLevel). For SparkR, use setLogLevel(newLevel).\n",
      "24/12/13 14:52:40 WARN NativeCodeLoader: Unable to load native-hadoop library for your platform... using builtin-java classes where applicable\n"
     ]
    },
    {
     "data": {
      "text/html": [
       "\n",
       "            <div>\n",
       "                <p><b>SparkSession - in-memory</b></p>\n",
       "                \n",
       "        <div>\n",
       "            <p><b>SparkContext</b></p>\n",
       "\n",
       "            <p><a href=\"http://192.168.0.62:4040\">Spark UI</a></p>\n",
       "\n",
       "            <dl>\n",
       "              <dt>Version</dt>\n",
       "                <dd><code>v3.5.3</code></dd>\n",
       "              <dt>Master</dt>\n",
       "                <dd><code>local[*]</code></dd>\n",
       "              <dt>AppName</dt>\n",
       "                <dd><code>groupby</code></dd>\n",
       "            </dl>\n",
       "        </div>\n",
       "        \n",
       "            </div>\n",
       "        "
      ],
      "text/plain": [
       "<pyspark.sql.session.SparkSession at 0x12ac5c650>"
      ]
     },
     "execution_count": 6,
     "metadata": {},
     "output_type": "execute_result"
    }
   ],
   "source": [
    "import pyspark\n",
    "from pyspark.sql import SparkSession\n",
    "spark = SparkSession.builder.appName(\"groupby\").getOrCreate()\n",
    "spark"
   ]
  },
  {
   "cell_type": "markdown",
   "metadata": {},
   "source": [
    "### Step 2. Import the dataset from this [address](https://raw.githubusercontent.com/justmarkham/DAT8/master/data/drinks.csv). "
   ]
  },
  {
   "cell_type": "markdown",
   "metadata": {},
   "source": [
    "### Step 3. Assign it to a variable called drinks."
   ]
  },
  {
   "cell_type": "code",
   "execution_count": 10,
   "metadata": {},
   "outputs": [],
   "source": [
    "from pyspark import SparkFiles"
   ]
  },
  {
   "cell_type": "code",
   "execution_count": 20,
   "metadata": {},
   "outputs": [
    {
     "name": "stdout",
     "output_type": "stream",
     "text": [
      "+-----------+-------------+---------------+-------------+----------------------------+---------+\n",
      "|    country|beer_servings|spirit_servings|wine_servings|total_litres_of_pure_alcohol|continent|\n",
      "+-----------+-------------+---------------+-------------+----------------------------+---------+\n",
      "|Afghanistan|            0|              0|            0|                         0.0|       AS|\n",
      "|    Albania|           89|            132|           54|                         4.9|       EU|\n",
      "|    Algeria|           25|              0|           14|                         0.7|       AF|\n",
      "|    Andorra|          245|            138|          312|                        12.4|       EU|\n",
      "|     Angola|          217|             57|           45|                         5.9|       AF|\n",
      "+-----------+-------------+---------------+-------------+----------------------------+---------+\n",
      "only showing top 5 rows\n",
      "\n"
     ]
    }
   ],
   "source": [
    "#url = \"https://raw.githubusercontent.com/justmarkham/DAT8/master/data/drinks.csv\"\n",
    "drinks_data_file = \"/Users/prabhakarapelluru/prabhakara/data_science/code/spark-python-prabha-2024/spark-python-prabha-2024/group_by_examples/drinks.csv\"\n",
    "drinks = spark.read.csv(path=drinks_data_file,header=True,inferSchema=True,sep=',')\n",
    "drinks.show(5)"
   ]
  },
  {
   "cell_type": "markdown",
   "metadata": {},
   "source": [
    "### Step 4. Which continent drinks more beer on average?"
   ]
  },
  {
   "cell_type": "code",
   "execution_count": 23,
   "metadata": {},
   "outputs": [
    {
     "data": {
      "text/plain": [
       "[Row(continent='EU', avg(beer_servings)=193.77777777777777)]"
      ]
     },
     "execution_count": 23,
     "metadata": {},
     "output_type": "execute_result"
    }
   ],
   "source": [
    "beer_continent = drinks.groupBy(\"continent\").agg({\"beer_servings\":\"avg\"})\n",
    "beer_continent.orderBy(\"avg(beer_servings)\", ascending=0).head(1)"
   ]
  },
  {
   "cell_type": "markdown",
   "metadata": {},
   "source": [
    "### Step 5. For each continent print the statistics for wine consumption."
   ]
  },
  {
   "cell_type": "code",
   "execution_count": 26,
   "metadata": {},
   "outputs": [],
   "source": [
    "from pyspark.sql.functions import *"
   ]
  },
  {
   "cell_type": "code",
   "execution_count": 28,
   "metadata": {},
   "outputs": [
    {
     "name": "stdout",
     "output_type": "stream",
     "text": [
      "['AF', 'AS', 'EU', 'NA', 'OC', 'SA']\n"
     ]
    }
   ],
   "source": [
    "continent = drinks.select(\"continent\").distinct().collect()\n",
    "# print(type(drinks.select(\"continent\").distinct().collect()))\n",
    "continents = sorted([x[0] for x in continent])\n",
    "print(continents)"
   ]
  },
  {
   "cell_type": "code",
   "execution_count": 30,
   "metadata": {},
   "outputs": [
    {
     "name": "stdout",
     "output_type": "stream",
     "text": [
      "AF\n",
      "+-------+------------------+\n",
      "|summary|     wine_servings|\n",
      "+-------+------------------+\n",
      "|  count|                53|\n",
      "|   mean|16.264150943396228|\n",
      "| stddev| 38.84641897335842|\n",
      "|    min|                 0|\n",
      "|    max|               233|\n",
      "+-------+------------------+\n",
      "\n",
      "AS\n",
      "+-------+------------------+\n",
      "|summary|     wine_servings|\n",
      "+-------+------------------+\n",
      "|  count|                44|\n",
      "|   mean| 9.068181818181818|\n",
      "| stddev|21.667033931944484|\n",
      "|    min|                 0|\n",
      "|    max|               123|\n",
      "+-------+------------------+\n",
      "\n",
      "EU\n",
      "+-------+------------------+\n",
      "|summary|     wine_servings|\n",
      "+-------+------------------+\n",
      "|  count|                45|\n",
      "|   mean|142.22222222222223|\n",
      "| stddev| 97.42173756146497|\n",
      "|    min|                 0|\n",
      "|    max|               370|\n",
      "+-------+------------------+\n",
      "\n",
      "NA\n",
      "+-------+------------------+\n",
      "|summary|     wine_servings|\n",
      "+-------+------------------+\n",
      "|  count|                23|\n",
      "|   mean| 24.52173913043478|\n",
      "| stddev|28.266378301658847|\n",
      "|    min|                 1|\n",
      "|    max|               100|\n",
      "+-------+------------------+\n",
      "\n",
      "OC\n",
      "+-------+-----------------+\n",
      "|summary|    wine_servings|\n",
      "+-------+-----------------+\n",
      "|  count|               16|\n",
      "|   mean|           35.625|\n",
      "| stddev|64.55578982554547|\n",
      "|    min|                0|\n",
      "|    max|              212|\n",
      "+-------+-----------------+\n",
      "\n",
      "SA\n",
      "+-------+------------------+\n",
      "|summary|     wine_servings|\n",
      "+-------+------------------+\n",
      "|  count|                12|\n",
      "|   mean|62.416666666666664|\n",
      "| stddev| 88.62018888937148|\n",
      "|    min|                 1|\n",
      "|    max|               221|\n",
      "+-------+------------------+\n",
      "\n"
     ]
    }
   ],
   "source": [
    "for each in continents:\n",
    "    print(each)\n",
    "    drinks.filter(drinks.continent.isin(each)).describe().select(\"summary\",\"wine_servings\").show()"
   ]
  },
  {
   "cell_type": "markdown",
   "metadata": {},
   "source": [
    "### Step 6. Print the mean alcohol consumption per continent for every column"
   ]
  },
  {
   "cell_type": "code",
   "execution_count": 33,
   "metadata": {},
   "outputs": [
    {
     "name": "stdout",
     "output_type": "stream",
     "text": [
      "+---------+------------------+--------------------+------------------+---------------------------------+\n",
      "|continent|avg(beer_servings)|avg(spirit_servings)|avg(wine_servings)|avg(total_litres_of_pure_alcohol)|\n",
      "+---------+------------------+--------------------+------------------+---------------------------------+\n",
      "|       NA|145.43478260869566|   165.7391304347826| 24.52173913043478|                5.995652173913044|\n",
      "|       SA|175.08333333333334|              114.75|62.416666666666664|                6.308333333333334|\n",
      "|       AS| 37.04545454545455|   60.84090909090909| 9.068181818181818|               2.1704545454545454|\n",
      "|       OC|           89.6875|             58.4375|            35.625|               3.3812500000000005|\n",
      "|       EU|193.77777777777777|  132.55555555555554|142.22222222222223|                8.617777777777777|\n",
      "|       AF|61.471698113207545|  16.339622641509433|16.264150943396228|                 3.00754716981132|\n",
      "+---------+------------------+--------------------+------------------+---------------------------------+\n",
      "\n"
     ]
    }
   ],
   "source": [
    "drinks.groupBy(\"continent\").mean().show()"
   ]
  },
  {
   "cell_type": "markdown",
   "metadata": {},
   "source": [
    "### Step 7. Print the median alcohol consumption per continent for every column"
   ]
  },
  {
   "cell_type": "code",
   "execution_count": 36,
   "metadata": {},
   "outputs": [
    {
     "data": {
      "text/plain": [
       "['country',\n",
       " 'beer_servings',\n",
       " 'spirit_servings',\n",
       " 'wine_servings',\n",
       " 'total_litres_of_pure_alcohol',\n",
       " 'continent']"
      ]
     },
     "execution_count": 36,
     "metadata": {},
     "output_type": "execute_result"
    }
   ],
   "source": [
    "drinks.columns"
   ]
  },
  {
   "cell_type": "code",
   "execution_count": 38,
   "metadata": {},
   "outputs": [
    {
     "name": "stdout",
     "output_type": "stream",
     "text": [
      "AF\n",
      "['beer_servings', 'spirit_servings', 'wine_servings', 'total_litres_of_pure_alcohol']\n",
      "[[32.0], [3.0], [2.0], [2.3]]\n",
      "AS\n",
      "['beer_servings', 'spirit_servings', 'wine_servings', 'total_litres_of_pure_alcohol']\n",
      "[[16.0], [16.0], [1.0], [1.0]]\n",
      "EU\n",
      "['beer_servings', 'spirit_servings', 'wine_servings', 'total_litres_of_pure_alcohol']\n",
      "[[219.0], [122.0], [128.0], [10.0]]\n",
      "NA\n",
      "['beer_servings', 'spirit_servings', 'wine_servings', 'total_litres_of_pure_alcohol']\n",
      "[[143.0], [137.0], [11.0], [6.3]]\n",
      "OC\n",
      "['beer_servings', 'spirit_servings', 'wine_servings', 'total_litres_of_pure_alcohol']\n",
      "[[49.0], [35.0], [8.0], [1.5]]\n",
      "SA\n",
      "['beer_servings', 'spirit_servings', 'wine_servings', 'total_litres_of_pure_alcohol']\n",
      "[[162.0], [100.0], [8.0], [6.6]]\n"
     ]
    }
   ],
   "source": [
    "# df.approxQuantile(\"x\", [0.5], 0.25)\n",
    "for each in continents:\n",
    "    print(each)\n",
    "    print(['beer_servings', 'spirit_servings', 'wine_servings', 'total_litres_of_pure_alcohol'])\n",
    "    print(drinks.filter(drinks.continent.isin(each)).approxQuantile(['beer_servings', 'spirit_servings', 'wine_servings', 'total_litres_of_pure_alcohol'], [0.5],0.001))"
   ]
  },
  {
   "cell_type": "markdown",
   "metadata": {},
   "source": [
    "### Step 8. Print the mean, min and max values for spirit consumption.\n",
    "#### This time output a DataFrame"
   ]
  },
  {
   "cell_type": "code",
   "execution_count": 41,
   "metadata": {},
   "outputs": [
    {
     "name": "stdout",
     "output_type": "stream",
     "text": [
      "+-------+-----------------+\n",
      "|summary|  spirit_servings|\n",
      "+-------+-----------------+\n",
      "|  count|              193|\n",
      "|   mean|80.99481865284974|\n",
      "| stddev|88.28431210968618|\n",
      "|    min|                0|\n",
      "|    max|              438|\n",
      "+-------+-----------------+\n",
      "\n"
     ]
    }
   ],
   "source": [
    "drinks.describe().select(\"summary\",\"spirit_servings\").show()"
   ]
  },
  {
   "cell_type": "code",
   "execution_count": null,
   "metadata": {},
   "outputs": [],
   "source": []
  },
  {
   "cell_type": "code",
   "execution_count": null,
   "metadata": {},
   "outputs": [],
   "source": []
  }
 ],
 "metadata": {
  "kernelspec": {
   "display_name": "Python 3 (ipykernel)",
   "language": "python",
   "name": "python3"
  },
  "language_info": {
   "codemirror_mode": {
    "name": "ipython",
    "version": 3
   },
   "file_extension": ".py",
   "mimetype": "text/x-python",
   "name": "python",
   "nbconvert_exporter": "python",
   "pygments_lexer": "ipython3",
   "version": "3.12.7"
  }
 },
 "nbformat": 4,
 "nbformat_minor": 4
}
